{
 "cells": [
  {
   "cell_type": "code",
   "execution_count": null,
   "metadata": {},
   "outputs": [
    {
     "name": "stdout",
     "output_type": "stream",
     "text": [
      "207\n"
     ]
    }
   ],
   "source": [
    "import requests\n",
    "import csv\n",
    "import io\n",
    "import os\n",
    "os.makedirs('flags', exist_ok = True)\n",
    "\n",
    "url = 'https://raw.githubusercontent.com/prasertcbs/basic-dataset/refs/heads/master/Country_Flags.csv'\n",
    "response = requests.get(url)\n",
    "readable_data = io.StringIO(response.text)\n",
    "data_reader = csv.reader(readable_data)\n",
    "count = 0\n",
    "for data in data_reader:\n",
    "    for item in data:\n",
    "        if item.__contains__('http'):\n",
    "            image_res = requests.get(item)\n",
    "            file_name = os.path.basename(item)\n",
    "            with open(f'flags/{file_name}', 'wb') as file:\n",
    "                    file.write(image_res.content)\n",
    "    count+=1\n",
    "print(count)"
   ]
  }
 ],
 "metadata": {
  "kernelspec": {
   "display_name": "Python 3",
   "language": "python",
   "name": "python3"
  },
  "language_info": {
   "codemirror_mode": {
    "name": "ipython",
    "version": 3
   },
   "file_extension": ".py",
   "mimetype": "text/x-python",
   "name": "python",
   "nbconvert_exporter": "python",
   "pygments_lexer": "ipython3",
   "version": "3.12.1"
  }
 },
 "nbformat": 4,
 "nbformat_minor": 2
}
